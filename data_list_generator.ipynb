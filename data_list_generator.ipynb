{
 "cells": [
  {
   "cell_type": "code",
   "execution_count": 3,
   "metadata": {},
   "outputs": [
    {
     "name": "stdout",
     "output_type": "stream",
     "text": [
      "G:/Dataset/Abdominal_Multi_Site_8organs/Site-A/BTCV_0001.nii.gz\n",
      "G:/Dataset/Abdominal_Multi_Site_8organs/Site-A/BTCV_0001_segmentation.nii.gz\n",
      "G:/Dataset/Abdominal_Multi_Site_8organs/Site-A/BTCV_0002.nii.gz\n",
      "G:/Dataset/Abdominal_Multi_Site_8organs/Site-A/BTCV_0002_segmentation.nii.gz\n",
      "G:/Dataset/Abdominal_Multi_Site_8organs/Site-A/BTCV_0003.nii.gz\n",
      "G:/Dataset/Abdominal_Multi_Site_8organs/Site-A/BTCV_0003_segmentation.nii.gz\n",
      "G:/Dataset/Abdominal_Multi_Site_8organs/Site-A/BTCV_0004.nii.gz\n",
      "G:/Dataset/Abdominal_Multi_Site_8organs/Site-A/BTCV_0004_segmentation.nii.gz\n",
      "G:/Dataset/Abdominal_Multi_Site_8organs/Site-A/BTCV_0005.nii.gz\n",
      "G:/Dataset/Abdominal_Multi_Site_8organs/Site-A/BTCV_0005_segmentation.nii.gz\n",
      "G:/Dataset/Abdominal_Multi_Site_8organs/Site-A/BTCV_0006.nii.gz\n",
      "G:/Dataset/Abdominal_Multi_Site_8organs/Site-A/BTCV_0006_segmentation.nii.gz\n",
      "G:/Dataset/Abdominal_Multi_Site_8organs/Site-A/BTCV_0007.nii.gz\n",
      "G:/Dataset/Abdominal_Multi_Site_8organs/Site-A/BTCV_0007_segmentation.nii.gz\n",
      "G:/Dataset/Abdominal_Multi_Site_8organs/Site-A/BTCV_0008.nii.gz\n",
      "G:/Dataset/Abdominal_Multi_Site_8organs/Site-A/BTCV_0008_segmentation.nii.gz\n",
      "G:/Dataset/Abdominal_Multi_Site_8organs/Site-A/BTCV_0009.nii.gz\n",
      "G:/Dataset/Abdominal_Multi_Site_8organs/Site-A/BTCV_0009_segmentation.nii.gz\n",
      "G:/Dataset/Abdominal_Multi_Site_8organs/Site-A/BTCV_0010.nii.gz\n",
      "G:/Dataset/Abdominal_Multi_Site_8organs/Site-A/BTCV_0010_segmentation.nii.gz\n",
      "G:/Dataset/Abdominal_Multi_Site_8organs/Site-A/BTCV_0021.nii.gz\n",
      "G:/Dataset/Abdominal_Multi_Site_8organs/Site-A/BTCV_0021_segmentation.nii.gz\n",
      "G:/Dataset/Abdominal_Multi_Site_8organs/Site-A/BTCV_0022.nii.gz\n",
      "G:/Dataset/Abdominal_Multi_Site_8organs/Site-A/BTCV_0022_segmentation.nii.gz\n",
      "G:/Dataset/Abdominal_Multi_Site_8organs/Site-A/BTCV_0023.nii.gz\n",
      "G:/Dataset/Abdominal_Multi_Site_8organs/Site-A/BTCV_0023_segmentation.nii.gz\n",
      "G:/Dataset/Abdominal_Multi_Site_8organs/Site-A/BTCV_0024.nii.gz\n",
      "G:/Dataset/Abdominal_Multi_Site_8organs/Site-A/BTCV_0024_segmentation.nii.gz\n",
      "G:/Dataset/Abdominal_Multi_Site_8organs/Site-A/BTCV_0025.nii.gz\n",
      "G:/Dataset/Abdominal_Multi_Site_8organs/Site-A/BTCV_0025_segmentation.nii.gz\n",
      "G:/Dataset/Abdominal_Multi_Site_8organs/Site-A/BTCV_0026.nii.gz\n",
      "G:/Dataset/Abdominal_Multi_Site_8organs/Site-A/BTCV_0026_segmentation.nii.gz\n",
      "G:/Dataset/Abdominal_Multi_Site_8organs/Site-A/BTCV_0027.nii.gz\n",
      "G:/Dataset/Abdominal_Multi_Site_8organs/Site-A/BTCV_0027_segmentation.nii.gz\n",
      "G:/Dataset/Abdominal_Multi_Site_8organs/Site-A/BTCV_0028.nii.gz\n",
      "G:/Dataset/Abdominal_Multi_Site_8organs/Site-A/BTCV_0028_segmentation.nii.gz\n",
      "G:/Dataset/Abdominal_Multi_Site_8organs/Site-A/BTCV_0029.nii.gz\n",
      "G:/Dataset/Abdominal_Multi_Site_8organs/Site-A/BTCV_0029_segmentation.nii.gz\n",
      "G:/Dataset/Abdominal_Multi_Site_8organs/Site-A/BTCV_0030.nii.gz\n",
      "G:/Dataset/Abdominal_Multi_Site_8organs/Site-A/BTCV_0030_segmentation.nii.gz\n",
      "G:/Dataset/Abdominal_Multi_Site_8organs/Site-A/BTCV_0031.nii.gz\n",
      "G:/Dataset/Abdominal_Multi_Site_8organs/Site-A/BTCV_0031_segmentation.nii.gz\n",
      "G:/Dataset/Abdominal_Multi_Site_8organs/Site-A/BTCV_0032.nii.gz\n",
      "G:/Dataset/Abdominal_Multi_Site_8organs/Site-A/BTCV_0032_segmentation.nii.gz\n",
      "G:/Dataset/Abdominal_Multi_Site_8organs/Site-A/BTCV_0033.nii.gz\n",
      "G:/Dataset/Abdominal_Multi_Site_8organs/Site-A/BTCV_0033_segmentation.nii.gz\n",
      "G:/Dataset/Abdominal_Multi_Site_8organs/Site-A/BTCV_0034.nii.gz\n",
      "G:/Dataset/Abdominal_Multi_Site_8organs/Site-A/BTCV_0034_segmentation.nii.gz\n",
      "G:/Dataset/Abdominal_Multi_Site_8organs/Site-A/BTCV_0035.nii.gz\n",
      "G:/Dataset/Abdominal_Multi_Site_8organs/Site-A/BTCV_0035_segmentation.nii.gz\n",
      "G:/Dataset/Abdominal_Multi_Site_8organs/Site-A/BTCV_0036.nii.gz\n",
      "G:/Dataset/Abdominal_Multi_Site_8organs/Site-A/BTCV_0036_segmentation.nii.gz\n",
      "G:/Dataset/Abdominal_Multi_Site_8organs/Site-A/BTCV_0037.nii.gz\n",
      "G:/Dataset/Abdominal_Multi_Site_8organs/Site-A/BTCV_0037_segmentation.nii.gz\n",
      "G:/Dataset/Abdominal_Multi_Site_8organs/Site-A/BTCV_0038.nii.gz\n",
      "G:/Dataset/Abdominal_Multi_Site_8organs/Site-A/BTCV_0038_segmentation.nii.gz\n",
      "G:/Dataset/Abdominal_Multi_Site_8organs/Site-A/BTCV_0039.nii.gz\n",
      "G:/Dataset/Abdominal_Multi_Site_8organs/Site-A/BTCV_0039_segmentation.nii.gz\n",
      "G:/Dataset/Abdominal_Multi_Site_8organs/Site-A/BTCV_0040.nii.gz\n",
      "G:/Dataset/Abdominal_Multi_Site_8organs/Site-A/BTCV_0040_segmentation.nii.gz\n"
     ]
    }
   ],
   "source": [
    "import os\n",
    "import numpy as np\n",
    "for sym in ['A']:\n",
    "    root = 'G:/Dataset/Abdominal_Multi_Site_8organs/site-' + sym\n",
    "    root_remote = 'G:/Dataset/Abdominal_Multi_Site_8organs/Site-' + sym\n",
    "    files = os.listdir(root)\n",
    "    all_list = open(root + '/' + \"all_list.txt\", 'w')\n",
    "    for file in files:\n",
    "        if file.endswith('segmentation.nii.gz'):\n",
    "#             print(file[:-20])\n",
    "            folder = root_remote + '/'\n",
    "            label = folder + file\n",
    "            image = label.replace('_segmentation.nii.gz','.nii.gz')\n",
    "            all_list.writelines(image + ',' + label + '\\n')\n",
    "            print(image)\n",
    "            print(label)\n",
    "    all_list.close()"
   ]
  },
  {
   "cell_type": "code",
   "execution_count": null,
   "metadata": {},
   "outputs": [],
   "source": []
  }
 ],
 "metadata": {
  "kernelspec": {
   "display_name": "Python [conda env:DL] *",
   "language": "python",
   "name": "conda-env-DL-py"
  },
  "language_info": {
   "codemirror_mode": {
    "name": "ipython",
    "version": 3
   },
   "file_extension": ".py",
   "mimetype": "text/x-python",
   "name": "python",
   "nbconvert_exporter": "python",
   "pygments_lexer": "ipython3",
   "version": "3.8.5"
  }
 },
 "nbformat": 4,
 "nbformat_minor": 2
}
